{
 "cells": [
  {
   "cell_type": "markdown",
   "metadata": {},
   "source": [
    "# Paras Patel-Day5 Assignment\n"
   ]
  },
  {
   "cell_type": "markdown",
   "metadata": {},
   "source": [
    "__Question 1 :__\n",
    "Write a Python program to find the first 20 non-even prime natural numbers.\n"
   ]
  },
  {
   "cell_type": "code",
   "execution_count": 1,
   "metadata": {},
   "outputs": [
    {
     "name": "stdout",
     "output_type": "stream",
     "text": [
      "Enter no. of primes needed:20\n",
      "3\n",
      "5\n",
      "7\n",
      "9\n",
      "11\n",
      "13\n",
      "15\n",
      "17\n",
      "19\n",
      "21\n",
      "23\n",
      "25\n",
      "27\n",
      "29\n",
      "31\n",
      "33\n",
      "35\n",
      "37\n",
      "39\n",
      "41\n"
     ]
    }
   ],
   "source": [
    "n = int(input(\"Enter no. of primes needed:\"))\n",
    "i =3\n",
    "while(n!=0):\n",
    "    for j in range(2,i):\n",
    "        if(i%j==0):\n",
    "            i+=1\n",
    "            break\n",
    "        else:\n",
    "            print(i)\n",
    "            i+=1\n",
    "            n-=1\n",
    "            break   "
   ]
  },
  {
   "cell_type": "markdown",
   "metadata": {},
   "source": [
    "__Question 2:__\n",
    "Write a Python program to implement 15 functions of string.\n"
   ]
  },
  {
   "cell_type": "code",
   "execution_count": 2,
   "metadata": {},
   "outputs": [
    {
     "name": "stdout",
     "output_type": "stream",
     "text": [
      "Enter a string: PARAS99046\n",
      "paras99046\n",
      "PARAS99046\n",
      "b'PARAS99046'\n",
      "False\n",
      "2\n",
      "True\n",
      "False\n",
      "paras99046\n",
      "True\n",
      "False\n",
      "PARASPATEL\n",
      "MY NAME IS PARAS PATEL\n",
      "('My name ', 'is', ' Paras Patel')\n",
      "1\n",
      "['My', 'name', 'is', 'Paras', 'Patel']\n"
     ]
    }
   ],
   "source": [
    "s = input(\"Enter a string: \")\n",
    "s1 = \"PATEL\"\n",
    "s2 = \"My name is Paras Patel\"\n",
    "print(s.casefold()) #Converts string into lower case\n",
    "print(s.center(4)) #Returns a centered string\n",
    "print(s.encode()) #Returns an encoded version of string\n",
    "print(s.endswith('S')) #Returns true if the string ends with the specified value\n",
    "print(s.find('R')) #Searches the string for a specified value and returns the position of where it was found\n",
    "print(s.isalnum()) #Returns True if all characters in the string are alphanumeric\n",
    "print(s.isalpha()) #Returns True if all characters in the string are alphabets\n",
    "print(s.swapcase()) #Swaps cases, lowercase becomes upper case and vice versa\n",
    "print(s.isprintable()) #Returns True if all characters in the string are printable\n",
    "print(s.istitle()) #Returns True if the string follows the rules of a title\n",
    "print(s.replace('99046','PATEL')) #Joins the elements of an iterable to the end of the string\n",
    "print(s2.upper()) #Converts string to upper case \n",
    "print(s2.partition(\"is\")) #Returns a tuple where the string is parted into three parts\n",
    "print(s2.count(\"Paras\")) #Returns the number of times a specified value occurs in a string\n",
    "print(s2.split()) #Split a string into a list where each word is a list item\n",
    "\n"
   ]
  },
  {
   "cell_type": "markdown",
   "metadata": {},
   "source": [
    "__Question 3:__\n",
    "Write a Python program to check if the given string is a Palindrome or Anagram or None of them.\n",
    "Display the message accordingly to the user.\n"
   ]
  },
  {
   "cell_type": "code",
   "execution_count": 3,
   "metadata": {},
   "outputs": [
    {
     "name": "stdout",
     "output_type": "stream",
     "text": [
      "Enter a string:DAD\n",
      "Enter a string for compared for Anagram: ADD\n",
      "DAD is a palindrome\n",
      "ADD is a anagram of  DAD\n"
     ]
    }
   ],
   "source": [
    "string1= input(\"Enter a string:\")\n",
    "string2 = input(\"Enter a string for compared for Anagram: \")\n",
    "rev=string1[::-1]\n",
    "if string1==rev:\n",
    "    print(string1,\"is a palindrome\")\n",
    "else:\n",
    "    print(string1,\"is not a palindrome\")\n",
    "if sorted(string1)==sorted(string2):\n",
    "    print(string2,\"is a anagram of \",string1)\n",
    "else:\n",
    "    print(string2,\"is a not an anagram of\",string1)"
   ]
  },
  {
   "cell_type": "markdown",
   "metadata": {},
   "source": [
    "__Question 4:__\n",
    "Write a Python's user defined function that removes all the additional characters from the string\n",
    "and converts it finally to lower case using built-in lower(). eg: If the string is \"Dr. Darshan Ingle\n",
    "@AI-ML Trainer\", then the output be \"drdarshaningleaimltrainer\"."
   ]
  },
  {
   "cell_type": "code",
   "execution_count": 4,
   "metadata": {},
   "outputs": [
    {
     "name": "stdout",
     "output_type": "stream",
     "text": [
      "Enter a string:Dr. Darshan Ingle @AI-ML Trainer\n",
      "drdarshaningleaimltrainer"
     ]
    }
   ],
   "source": [
    "def alpha_lower(s):\n",
    "    for i in s:\n",
    "        if i.isalnum():\n",
    "            print(i.lower(),end=\"\")\n",
    "s = input(\"Enter a string:\")\n",
    "alpha_lower(s)"
   ]
  }
 ],
 "metadata": {
  "kernelspec": {
   "display_name": "Python 3",
   "language": "python",
   "name": "python3"
  },
  "language_info": {
   "codemirror_mode": {
    "name": "ipython",
    "version": 3
   },
   "file_extension": ".py",
   "mimetype": "text/x-python",
   "name": "python",
   "nbconvert_exporter": "python",
   "pygments_lexer": "ipython3",
   "version": "3.7.6"
  }
 },
 "nbformat": 4,
 "nbformat_minor": 4
}
