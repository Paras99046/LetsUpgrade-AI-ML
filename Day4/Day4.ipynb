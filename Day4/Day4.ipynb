{
 "cells": [
  {
   "cell_type": "markdown",
   "metadata": {},
   "source": [
    "# Paras Patel- Day4 Assignment\n"
   ]
  },
  {
   "cell_type": "markdown",
   "metadata": {},
   "source": [
    "__Question 1 :__\n",
    "Research on whether addition, subtraction, multiplication, division, floor division and modulo\n",
    "operations be performed on complex numbers. Based on your study, implement a Python\n",
    "program to demonstrate these operations."
   ]
  },
  {
   "cell_type": "code",
   "execution_count": 8,
   "metadata": {},
   "outputs": [
    {
     "name": "stdout",
     "output_type": "stream",
     "text": [
      "Enter a complex number: 9-4j\n",
      "Enter another complex number: 6-6j\n",
      "Addition is :  (15-10j)\n",
      "Subtraction is:  (3+2j)\n",
      "Multipication is:  (30-78j)\n",
      "Divison is : (1.0833333333333333+0.4166666666666667j)\n"
     ]
    }
   ],
   "source": [
    "#(3+2j) + (5+4j) Addition is possible\n",
    "#(3+2j) - (5+4j) Subtraction is possible\n",
    "#(3+2j) * (5+4j) Multiplication is possible\n",
    "#(3+2j) / (5+4j) Division is possible\n",
    "#(3+2j) // (5+4j) TypeError: can't take floor of complex number.\n",
    "#(3+2j) % (5+4j) TypeError: can't mod complex numbers.\n",
    "a = complex(input(\"Enter a complex number: \"))\n",
    "b = complex(input(\"Enter another complex number: \"))\n",
    "print(\"Addition is : \",a+b)\n",
    "print(\"Subtraction is: \",a-b)\n",
    "print(\"Multipication is: \",a*b)\n",
    "print(\"Divison is :\",a/b)"
   ]
  },
  {
   "cell_type": "markdown",
   "metadata": {},
   "source": [
    "__Question 2 :__\n",
    "Research on range() functions and its parameters. Create a markdown cell and write in your own\n",
    "words (no copy-paste from google please) what you understand about it. Implement a small\n",
    "program of your choice on the same.\n"
   ]
  },
  {
   "cell_type": "markdown",
   "metadata": {},
   "source": [
    "__range(start,stop,increment)__ returns a __series of numbers__ which __start__ from _'start'_ and __end__ at _'stop'(excluding stop)_ __incrementing__ it by _'increment'_.By _default_ the value starts from _0_.By _default_ the increment is by _1_."
   ]
  },
  {
   "cell_type": "code",
   "execution_count": 25,
   "metadata": {},
   "outputs": [
    {
     "name": "stdout",
     "output_type": "stream",
     "text": [
      "Enter a number : 102\n",
      "102 is not a prime number\n"
     ]
    }
   ],
   "source": [
    "#Program to find if a number is prime or not\n",
    "n = int(input(\"Enter a number : \"))\n",
    "for i in range(2,n):\n",
    "    if(n%i==0):\n",
    "        print(n,\"is not a prime number\")\n",
    "        break\n",
    "    else:\n",
    "        print(n,\"is a prime number\")\n",
    "        break"
   ]
  },
  {
   "cell_type": "markdown",
   "metadata": {},
   "source": [
    "__Question 3:__\n",
    "Consider two numbers. Perform their subtraction and if the result of subtraction is greater than\n",
    "25, print their multiplication result else print their division result.\n"
   ]
  },
  {
   "cell_type": "code",
   "execution_count": 28,
   "metadata": {},
   "outputs": [
    {
     "name": "stdout",
     "output_type": "stream",
     "text": [
      "Enter a number: 12\n",
      "Enter a number: 6\n",
      "2.0\n"
     ]
    }
   ],
   "source": [
    "a = int(input(\"Enter a number: \"))\n",
    "b = int(input(\"Enter a number: \"))\n",
    "if((a-b)>25):\n",
    "    print(a*b)\n",
    "else:\n",
    "    print(a/b)"
   ]
  },
  {
   "cell_type": "markdown",
   "metadata": {},
   "source": [
    "__Question 4:__\n",
    "Consider a list of 10 elements of integer values. If the number in the list is divisible by 2, print the\n",
    "result as \"square of that number minus 2\".\n"
   ]
  },
  {
   "cell_type": "code",
   "execution_count": 30,
   "metadata": {},
   "outputs": [
    {
     "name": "stdout",
     "output_type": "stream",
     "text": [
      "1022\n",
      "1762\n",
      "142\n",
      "34\n"
     ]
    }
   ],
   "source": [
    "list1 = [11,32,42,785,6763,12,6,5555,123,1]\n",
    "for i in list1:\n",
    "    if(i%2==0):\n",
    "        print(i**2-2)"
   ]
  },
  {
   "cell_type": "markdown",
   "metadata": {},
   "source": [
    "__Question 5:__\n",
    "Consider a list of 10 elements. Print all the elements in the list which are greater than 7 when that\n",
    "number is divided 2."
   ]
  },
  {
   "cell_type": "code",
   "execution_count": 32,
   "metadata": {},
   "outputs": [
    {
     "name": "stdout",
     "output_type": "stream",
     "text": [
      "23\n",
      "48\n",
      "66\n",
      "789\n",
      "78\n",
      "33\n"
     ]
    }
   ],
   "source": [
    "list2 = [1,23,10,48,13,66,789,2,78,33]\n",
    "for i in list2:\n",
    "    if(i/2>7):\n",
    "        print(i)"
   ]
  },
  {
   "cell_type": "code",
   "execution_count": null,
   "metadata": {},
   "outputs": [],
   "source": []
  }
 ],
 "metadata": {
  "kernelspec": {
   "display_name": "Python 3",
   "language": "python",
   "name": "python3"
  },
  "language_info": {
   "codemirror_mode": {
    "name": "ipython",
    "version": 3
   },
   "file_extension": ".py",
   "mimetype": "text/x-python",
   "name": "python",
   "nbconvert_exporter": "python",
   "pygments_lexer": "ipython3",
   "version": "3.7.6"
  }
 },
 "nbformat": 4,
 "nbformat_minor": 4
}
