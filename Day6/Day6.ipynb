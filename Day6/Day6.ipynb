{
 "cells": [
  {
   "cell_type": "markdown",
   "metadata": {},
   "source": [
    "# Paras Patel-Day6 Assignment\n"
   ]
  },
  {
   "cell_type": "markdown",
   "metadata": {},
   "source": [
    "__Question 1:__\n",
    "Assuming that we have some email addresses in the \"username@companyname.com\" format, please write program\n",
    "to print the company name of a given email address. Both user names and company names are composed of letters\n",
    "only.\n",
    "\n",
    "Input Format:\n",
    "The first line of the input contains an email address.\n",
    "\n",
    "Output Format:\n",
    "Print the company name in single line.\n",
    "\n",
    "Example;\n",
    "Input:\n",
    "john@google.com\n",
    "\n",
    "Output:\n",
    "google"
   ]
  },
  {
   "cell_type": "code",
   "execution_count": 1,
   "metadata": {},
   "outputs": [
    {
     "name": "stdout",
     "output_type": "stream",
     "text": [
      "Enter email id:paras@spotle.ai.com\n",
      "spotle.ai "
     ]
    }
   ],
   "source": [
    "s = input(\"Enter email id:\")\n",
    "i = s.find('@')\n",
    "j = s.rfind(\".\")\n",
    "print(s[i+1:j],end=\" \")"
   ]
  },
  {
   "cell_type": "markdown",
   "metadata": {},
   "source": [
    "__Question 2:__\n",
    "Write a program that accepts a comma-separated sequence of words as input and prints the words in a comma\n",
    "separated sequence after sorting them alphabetically.\n",
    "\n",
    "Input Format:\n",
    "The first line of input contains words separated by the comma.\n",
    "\n",
    "Output Format:\n",
    "Print the sorted words separated by the comma.\n",
    "\n",
    "Example:\n",
    "Input:\n",
    "without,hello,bag,world\n",
    "\n",
    "Output:\n",
    "bag,hello,without,world"
   ]
  },
  {
   "cell_type": "code",
   "execution_count": 2,
   "metadata": {},
   "outputs": [
    {
     "name": "stdout",
     "output_type": "stream",
     "text": [
      "Enter comma-sepearated sequence of words:without,hello,bag,world\n",
      "bag,hello,without,world,"
     ]
    }
   ],
   "source": [
    "s = input(\"Enter comma-sepearated sequence of words:\")\n",
    "l = s.split(\",\")\n",
    "l = sorted(l)\n",
    "for i in l:\n",
    "    print(\"{},\".format(i),end = \"\")  "
   ]
  },
  {
   "cell_type": "markdown",
   "metadata": {},
   "source": [
    "__Question 3:__\n",
    "Create your own Jupyter Notebook for Sets.\n",
    "Reference link: https://www.w3schools.com/python/python_sets.asp"
   ]
  },
  {
   "cell_type": "code",
   "execution_count": 3,
   "metadata": {},
   "outputs": [
    {
     "name": "stdout",
     "output_type": "stream",
     "text": [
      "{'four', 'one', 'three', 'Two'}\n",
      "{'one', 'nine', 'four'}\n",
      "{'nine'}\n",
      "{'one', 'four'}\n",
      "{'one', 'three', 'Two', 'nine', 'four'}\n",
      "{'three', 'nine', 'Two'}\n",
      "{'one', 'four'}\n",
      "True\n",
      "False\n",
      "four\n",
      "{'three', 'Two'}\n",
      "set()\n"
     ]
    }
   ],
   "source": [
    "set1 = {'one', 'Two','three'}\n",
    "set2 = {'one','four','nine'}\n",
    "set1.add('four')#Adds an element to the set\n",
    "print(set1)\n",
    "set3 = set2.copy() #Returns a copy of the set\n",
    "print(set3)\n",
    "print(set2.difference(set1)) #Returns a set containing the difference between two or more sets\n",
    "print(set1.intersection(set2)) #Returns a set, that is the intersection of two other sets\n",
    "print(set1.union(set2)) #Return a set containing the union of sets\n",
    "print(set1.symmetric_difference(set2)) #Returns a set with the symmetric differences of two sets\n",
    "set2.discard('nine') #Remove the specified item\n",
    "print(set2)\n",
    "#print(set3) #Check whether copied set is updated or not\n",
    "print(set2.issubset(set1)) #Returns whether another set contains this set or not\n",
    "print(set2.issuperset(set1)) #Returns whether this set contains another set or not\n",
    "print(set1.pop()) #Removes last element from the set\n",
    "set1.remove('one')#Removes the specified element \n",
    "print(set1)\n",
    "set1.clear()#Removes all the elements from the set\n",
    "print(set1)"
   ]
  },
  {
   "cell_type": "markdown",
   "metadata": {},
   "source": [
    "__Question 4:__\n",
    "Given a list of n-1 numbers ranging from 1 to n, your task is to find the missing number. There are no duplicates.\n",
    "\n",
    "Input Format:\n",
    "The first line contains n-1 numbers with each number separated by a space.\n",
    "\n",
    "Output Format:\n",
    "Print the missing number\n",
    "\n",
    "Example:\n",
    "Input:1 2 4 6 3 7 8\n",
    "\n",
    "Output:5"
   ]
  },
  {
   "cell_type": "code",
   "execution_count": 4,
   "metadata": {},
   "outputs": [
    {
     "name": "stdout",
     "output_type": "stream",
     "text": [
      "5\n"
     ]
    }
   ],
   "source": [
    "list1 = [1,2,4,6,3,7,8]\n",
    "list2 = sorted(list1)\n",
    "list2\n",
    "for i in range(1,len(list2)):\n",
    "    if(i not in list2):\n",
    "        print(i)        "
   ]
  },
  {
   "cell_type": "markdown",
   "metadata": {},
   "source": [
    "__Question 5:__\n",
    "With a given list L, write a program to print this list L after removing all duplicate values with original order reserved.\n",
    "\n",
    "Example:\n",
    "If the input list is\n",
    "\n",
    "12 24 35 24 88 120 155 88 120 155\n",
    "\n",
    "Then the output should be\n",
    "\n",
    "12 24 35 88 120 155\n",
    "\n",
    "Explanation:\n",
    "Third, seventh and ninth element of the list L has been removed because it was already present.\n",
    "\n",
    "Input Format:\n",
    "In one line take the elements of the list L with each element separated by a space.\n",
    "\n",
    "Output Format:\n",
    "Print the elements of the modified list in one line with each element separated by a space.\n",
    "\n",
    "Example:\n",
    "Input: 12 24 35 24\n",
    "\n",
    "Output:\n",
    "12 24 35"
   ]
  },
  {
   "cell_type": "code",
   "execution_count": 5,
   "metadata": {},
   "outputs": [
    {
     "data": {
      "text/plain": [
       "[12, 24, 35, 88, 120, 155, 99]"
      ]
     },
     "execution_count": 5,
     "metadata": {},
     "output_type": "execute_result"
    }
   ],
   "source": [
    "list1 = [12,24,35,24,88,120,155,88,99,120,155]\n",
    "list2 = []\n",
    "for i in list1:\n",
    "    if(i in list2):\n",
    "        continue\n",
    "    else:\n",
    "        list2.append(i)\n",
    "list2\n",
    "        "
   ]
  }
 ],
 "metadata": {
  "kernelspec": {
   "display_name": "Python 3",
   "language": "python",
   "name": "python3"
  },
  "language_info": {
   "codemirror_mode": {
    "name": "ipython",
    "version": 3
   },
   "file_extension": ".py",
   "mimetype": "text/x-python",
   "name": "python",
   "nbconvert_exporter": "python",
   "pygments_lexer": "ipython3",
   "version": "3.7.6"
  }
 },
 "nbformat": 4,
 "nbformat_minor": 4
}
