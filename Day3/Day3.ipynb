{
 "cells": [
  {
   "cell_type": "markdown",
   "metadata": {},
   "source": [
    "# Paras Patel-Day3 Assignment\n"
   ]
  },
  {
   "cell_type": "markdown",
   "metadata": {},
   "source": [
    "**Question 1 :**\n",
    "Write a program to subtract two complex numbers in Python."
   ]
  },
  {
   "cell_type": "code",
   "execution_count": 1,
   "metadata": {},
   "outputs": [
    {
     "name": "stdout",
     "output_type": "stream",
     "text": [
      "Enter the first complex number: 10-8j\n",
      "Enter the second complex number: 3+2j\n",
      "(7-10j)\n"
     ]
    }
   ],
   "source": [
    "a = complex(input(\"Enter the first complex number: \"))\n",
    "b = complex(input(\"Enter the second complex number: \"))\n",
    "print(a-b)"
   ]
  },
  {
   "cell_type": "markdown",
   "metadata": {},
   "source": [
    "**Question 2 :**\n",
    "\n",
    "Write a program to find the fourth root of a number.\n"
   ]
  },
  {
   "cell_type": "code",
   "execution_count": 2,
   "metadata": {},
   "outputs": [
    {
     "name": "stdout",
     "output_type": "stream",
     "text": [
      "Enter a number:81\n",
      "3.0\n"
     ]
    }
   ],
   "source": [
    "c = int(input(\"Enter a number:\"))\n",
    "print(c**(1/4))"
   ]
  },
  {
   "cell_type": "markdown",
   "metadata": {},
   "source": [
    "**Question 3:**\n",
    "\n",
    "Write a program to swap two numbers in Python with the help of a temporary variable.\n"
   ]
  },
  {
   "cell_type": "code",
   "execution_count": 3,
   "metadata": {},
   "outputs": [
    {
     "name": "stdout",
     "output_type": "stream",
     "text": [
      "Enter first number to be swapped:3\n",
      "Enter second number to be swapped:4\n",
      "The numbers after swapping are a =  4 and b =  3\n"
     ]
    }
   ],
   "source": [
    "a = int(input(\"Enter first number to be swapped:\"))\n",
    "b = int(input(\"Enter second number to be swapped:\"))\n",
    "temp = a\n",
    "a = b\n",
    "b = temp\n",
    "print(\"The numbers after swapping are a = \",a,\"and b = \",b)"
   ]
  },
  {
   "cell_type": "markdown",
   "metadata": {},
   "source": [
    "**Question 4:**\n",
    "\n",
    "Write a program to swap two numbers in Python without using a temporary variable.\n"
   ]
  },
  {
   "cell_type": "code",
   "execution_count": 4,
   "metadata": {},
   "outputs": [
    {
     "name": "stdout",
     "output_type": "stream",
     "text": [
      "Enter first number to be swapped:7\n",
      "Enter second number to be swapped:9\n",
      "The numbers after swapping are a =  9 and b =  7\n"
     ]
    }
   ],
   "source": [
    "a = int(input(\"Enter first number to be swapped:\"))\n",
    "b = int(input(\"Enter second number to be swapped:\"))\n",
    "a = a+b\n",
    "b = a-b\n",
    "a = a-b\n",
    "print(\"The numbers after swapping are a = \",a,\"and b = \",b)"
   ]
  },
  {
   "cell_type": "markdown",
   "metadata": {},
   "source": [
    "**Question 5:**\n",
    "\n",
    "Write a program to convert fahrenheit to kelvin and celsius both.\n"
   ]
  },
  {
   "cell_type": "code",
   "execution_count": 5,
   "metadata": {},
   "outputs": [
    {
     "name": "stdout",
     "output_type": "stream",
     "text": [
      "Enter temperature in Farenheit:32\n",
      "The temperature in Celsius is  0.0\n",
      "The temperature in Kelvin is  273.15\n"
     ]
    }
   ],
   "source": [
    "f = int(input(\"Enter temperature in Farenheit:\"))\n",
    "c = (f-32)*(5/9)\n",
    "k = c+273.15\n",
    "print(\"The temperature in Celsius is \",c)\n",
    "print(\"The temperature in Kelvin is \",k)"
   ]
  },
  {
   "cell_type": "markdown",
   "metadata": {},
   "source": [
    "**Question 6:**\n",
    "\n",
    "Write a program to demonstrate all the available data types in Python. Hint: Use type() function"
   ]
  },
  {
   "cell_type": "code",
   "execution_count": 6,
   "metadata": {},
   "outputs": [
    {
     "name": "stdout",
     "output_type": "stream",
     "text": [
      "<class 'int'>\n",
      "<class 'float'>\n",
      "<class 'tuple'>\n",
      "<class 'str'>\n",
      "<class 'bool'>\n"
     ]
    }
   ],
   "source": [
    "a = 3\n",
    "b = 4.556\n",
    "c = 1,00,000\n",
    "d = \"Paras\"\n",
    "e = True\n",
    "print(type(a))\n",
    "print(type(b))\n",
    "print(type(c))\n",
    "print(type(d))\n",
    "print(type(e))"
   ]
  },
  {
   "cell_type": "markdown",
   "metadata": {},
   "source": [
    "**Question 7:**\n",
    "\n",
    "Create a Markdown cell in jupyter and list the steps discussed in the session by Dr. Darshan\n",
    "Ingle sir to create Github profile and upload Githubs Assignment link."
   ]
  },
  {
   "cell_type": "markdown",
   "metadata": {},
   "source": [
    "# Create a Github Profile\n",
    "\n",
    "1. Go to website __github.com__\n",
    "2. _Sign in_ or _Sign up_ and fill the required details.\n",
    "3. After filling the required details _Sign in_ to your __Github profile__\n",
    "4. Create a _repository_ and name it as __LetsUpgrade AI/ML__\n",
    "5. Upload an existing file (eg: _Day3_)\n",
    "6. Click on \"Commit changes\"\n",
    "\n",
    "\n",
    "\n"
   ]
  }
 ],
 "metadata": {
  "kernelspec": {
   "display_name": "Python 3",
   "language": "python",
   "name": "python3"
  },
  "language_info": {
   "codemirror_mode": {
    "name": "ipython",
    "version": 3
   },
   "file_extension": ".py",
   "mimetype": "text/x-python",
   "name": "python",
   "nbconvert_exporter": "python",
   "pygments_lexer": "ipython3",
   "version": "3.7.6"
  }
 },
 "nbformat": 4,
 "nbformat_minor": 4
}
