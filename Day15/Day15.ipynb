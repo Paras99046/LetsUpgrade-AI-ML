{
 "cells": [
  {
   "cell_type": "markdown",
   "metadata": {},
   "source": [
    "# 1. Create a 3x3x3 array with random values "
   ]
  },
  {
   "cell_type": "code",
   "execution_count": 1,
   "metadata": {},
   "outputs": [
    {
     "name": "stdout",
     "output_type": "stream",
     "text": [
      "(3, 3, 3)\n"
     ]
    }
   ],
   "source": [
    "import numpy as np\n",
    "a = np.random.random((3,3,3))\n",
    "print(a.shape)"
   ]
  },
  {
   "cell_type": "markdown",
   "metadata": {},
   "source": [
    "# 2.Create a 5x5 matrix with values 1,2,3,4 just below the diagonal"
   ]
  },
  {
   "cell_type": "code",
   "execution_count": 2,
   "metadata": {},
   "outputs": [
    {
     "data": {
      "text/plain": [
       "array([[  1,   2,   3,   5,   4],\n",
       "       [  1,   4,   8,   9,   6],\n",
       "       [ 12,   2,  67,  89,   3],\n",
       "       [  5,   4,   3,  67,  88],\n",
       "       [  9,  18,  21,   4, 668]])"
      ]
     },
     "execution_count": 2,
     "metadata": {},
     "output_type": "execute_result"
    }
   ],
   "source": [
    "b = np.array([[1,2,3,5,4],[6,4,8,9,6],[12,45,67,89,3],[5,4,2,67,88],[9,18,21,45,668]])\n",
    "m = b.shape[0]\n",
    "n = b.shape[1]\n",
    "k=1\n",
    "for i in range(0,m-1):\n",
    "    for j in range(0,n):\n",
    "        if(i==j):\n",
    "            b[i+1][j] = k\n",
    "            k+=1\n",
    "b"
   ]
  },
  {
   "cell_type": "markdown",
   "metadata": {},
   "source": [
    "# 3.Create a 8x8 matrix and fill it with a checkerboard pattern"
   ]
  },
  {
   "cell_type": "code",
   "execution_count": 3,
   "metadata": {},
   "outputs": [
    {
     "data": {
      "text/plain": [
       "array([[0., 1., 0., 1., 0., 1., 0., 1.],\n",
       "       [1., 0., 1., 0., 1., 0., 1., 0.],\n",
       "       [0., 1., 0., 1., 0., 1., 0., 1.],\n",
       "       [1., 0., 1., 0., 1., 0., 1., 0.],\n",
       "       [0., 1., 0., 1., 0., 1., 0., 1.],\n",
       "       [1., 0., 1., 0., 1., 0., 1., 0.],\n",
       "       [0., 1., 0., 1., 0., 1., 0., 1.],\n",
       "       [1., 0., 1., 0., 1., 0., 1., 0.]])"
      ]
     },
     "execution_count": 3,
     "metadata": {},
     "output_type": "execute_result"
    }
   ],
   "source": [
    "c= np.zeros((8,8))\n",
    "m = c.shape[0]\n",
    "n = c.shape[1]\n",
    "for i in range(m):\n",
    "    for j in range(n):\n",
    "        if(i%2 == 0 and j%2!=0):\n",
    "            c[i][j] = 1\n",
    "        if(i%2!=0 and j%2 == 0):\n",
    "            c[i][j] = 1\n",
    "            \n",
    "c\n"
   ]
  },
  {
   "cell_type": "markdown",
   "metadata": {},
   "source": [
    "# 4. Normalize a 5x5 random matrix"
   ]
  },
  {
   "cell_type": "code",
   "execution_count": 4,
   "metadata": {},
   "outputs": [
    {
     "name": "stdout",
     "output_type": "stream",
     "text": [
      "[[0.43730847 0.96631448 0.18751785 0.69617992 0.67753203]\n",
      " [0.97417403 0.66943681 0.8771026  0.68480454 0.22720777]\n",
      " [0.86358878 0.33976263 0.63696392 0.64474542 0.92909089]\n",
      " [0.92396281 0.18941625 0.33746327 0.17525302 0.9051403 ]\n",
      " [0.14670301 0.04240081 0.76883738 0.30742585 0.19955685]]\n",
      "After normalization:\n",
      "[[0.42382379 0.99156496 0.15574288 0.70165047 0.68163713]\n",
      " [1.         0.67294915 0.89582075 0.68944214 0.19833899]\n",
      " [0.88131742 0.3191354  0.63809852 0.6464498  0.95161576]\n",
      " [0.94611219 0.15778028 0.31666767 0.14257998 0.92591144]\n",
      " [0.11193946 0.         0.77962808 0.28443084 0.1686634 ]]\n"
     ]
    }
   ],
   "source": [
    "d = np.random.random((5,5))\n",
    "print(d)\n",
    "dmax,dmin = d.max(),d.min()\n",
    "d = (d-dmin)/(dmax-dmin)\n",
    "print(\"After normalization:\")\n",
    "print(d)"
   ]
  },
  {
   "cell_type": "markdown",
   "metadata": {},
   "source": [
    "# 5.  How to find common values between two arrays?"
   ]
  },
  {
   "cell_type": "code",
   "execution_count": 5,
   "metadata": {},
   "outputs": [
    {
     "name": "stdout",
     "output_type": "stream",
     "text": [
      "1\n",
      "73\n"
     ]
    }
   ],
   "source": [
    "a = np.array([1,2,5,73,21])\n",
    "b = np.array([3,1,4,6,73])\n",
    "for i in a:\n",
    "    if i in b:\n",
    "        print(i)\n"
   ]
  },
  {
   "cell_type": "markdown",
   "metadata": {},
   "source": [
    "# 6.How to get the dates of yesterday, today and tomorrow?"
   ]
  },
  {
   "cell_type": "code",
   "execution_count": 6,
   "metadata": {},
   "outputs": [
    {
     "name": "stdout",
     "output_type": "stream",
     "text": [
      "Yesterday: 2020-07-27\n",
      "Today:  2020-07-28\n",
      "Tomorrow: 2020-07-29\n"
     ]
    }
   ],
   "source": [
    "yesterday = np.datetime64('today','D') - np.timedelta64(1,'D')\n",
    "print(\"Yesterday:\",yesterday)\n",
    "today = np.datetime64('today','D')\n",
    "print(\"Today: \",today)\n",
    "tomorrow = np.datetime64('today','D') + np.timedelta64(1,'D')\n",
    "print(\"Tomorrow:\",tomorrow)"
   ]
  },
  {
   "cell_type": "markdown",
   "metadata": {},
   "source": [
    "# 7. Consider two random array A and B, check if they are equal"
   ]
  },
  {
   "cell_type": "code",
   "execution_count": 7,
   "metadata": {},
   "outputs": [
    {
     "name": "stdout",
     "output_type": "stream",
     "text": [
      "False\n"
     ]
    }
   ],
   "source": [
    "a = np.random.random(4)\n",
    "b = np.random.random(4)\n",
    "equal = np.array_equal(a,b)\n",
    "print(equal)"
   ]
  },
  {
   "cell_type": "markdown",
   "metadata": {},
   "source": [
    "# 8.Create random vector of size 10 and replace the maximum value by 0 "
   ]
  },
  {
   "cell_type": "code",
   "execution_count": 8,
   "metadata": {},
   "outputs": [
    {
     "name": "stdout",
     "output_type": "stream",
     "text": [
      "[0.12338753 0.85929532 0.85260778 0.93226253 0.3909321  0.93291182\n",
      " 0.28717885 0.82609454 0.93806508 0.89795818]\n",
      "[0.12338753 0.85929532 0.85260778 0.93226253 0.3909321  0.93291182\n",
      " 0.28717885 0.82609454 0.         0.89795818]\n"
     ]
    }
   ],
   "source": [
    "a = np.random.random(10)\n",
    "print(a)\n",
    "b = a.argmax()\n",
    "a[b] = 0.0\n",
    "print(a)"
   ]
  },
  {
   "cell_type": "markdown",
   "metadata": {},
   "source": [
    "# 9. How to print all the values of an array?"
   ]
  },
  {
   "cell_type": "code",
   "execution_count": 9,
   "metadata": {},
   "outputs": [
    {
     "name": "stdout",
     "output_type": "stream",
     "text": [
      "0\n",
      "1\n",
      "2\n",
      "3\n",
      "4\n"
     ]
    }
   ],
   "source": [
    "a = np.arange(5)\n",
    "for i in a:\n",
    "    print(i)"
   ]
  },
  {
   "cell_type": "markdown",
   "metadata": {},
   "source": [
    "# 10.Subtract the mean of each row of a matrix"
   ]
  },
  {
   "cell_type": "code",
   "execution_count": 10,
   "metadata": {},
   "outputs": [
    {
     "name": "stdout",
     "output_type": "stream",
     "text": [
      "[22.4  2.4]\n"
     ]
    },
    {
     "data": {
      "text/plain": [
       "array([[-20.4, -18.4, -17.4,  55.6,   0.6],\n",
       "       [ -1.4,   2.6,   0.6,  -1.4,  -0.4]])"
      ]
     },
     "execution_count": 10,
     "metadata": {},
     "output_type": "execute_result"
    }
   ],
   "source": [
    "x = np.array([[2,4,5,78,23],[1,5,3,1,2]],dtype = np.float64)\n",
    "x_bar = x.mean(axis=1)\n",
    "m = x.shape[0]\n",
    "n = x.shape[1]\n",
    "for i in range(m):\n",
    "    for j in range(n):\n",
    "        x[i][j] -= x_bar[i]\n",
    "print(x_bar)\n",
    "x"
   ]
  },
  {
   "cell_type": "markdown",
   "metadata": {},
   "source": [
    "# 11.Consider a given vector, how to add 1 to each element indexed by a second vector (be careful with repeated indices)? "
   ]
  },
  {
   "cell_type": "code",
   "execution_count": 11,
   "metadata": {},
   "outputs": [],
   "source": [
    "z = np.ones(10)\n",
    "i = np.random.randint(0,len(z),20)"
   ]
  },
  {
   "cell_type": "code",
   "execution_count": 12,
   "metadata": {},
   "outputs": [
    {
     "name": "stdout",
     "output_type": "stream",
     "text": [
      "[3. 6. 3. 2. 4. 2. 1. 5. 3. 1.]\n"
     ]
    }
   ],
   "source": [
    "np.add.at(z,i,1)\n",
    "print(z)"
   ]
  },
  {
   "cell_type": "markdown",
   "metadata": {},
   "source": [
    "# 12.How to get the diagonal of a dot product?"
   ]
  },
  {
   "cell_type": "code",
   "execution_count": 13,
   "metadata": {},
   "outputs": [
    {
     "name": "stdout",
     "output_type": "stream",
     "text": [
      "[[38 46]\n",
      " [49 60]]\n"
     ]
    },
    {
     "data": {
      "text/plain": [
       "array([38, 60])"
      ]
     },
     "execution_count": 13,
     "metadata": {},
     "output_type": "execute_result"
    }
   ],
   "source": [
    "a = np.array([[2,4],[3,5]])\n",
    "b = np.array([[3,5],[8,9]])\n",
    "c = a@b\n",
    "print(c)\n",
    "np.diag(c)"
   ]
  },
  {
   "cell_type": "markdown",
   "metadata": {},
   "source": [
    "# 13.How to find the most frequent value in an array?"
   ]
  },
  {
   "cell_type": "code",
   "execution_count": 14,
   "metadata": {},
   "outputs": [
    {
     "name": "stdout",
     "output_type": "stream",
     "text": [
      "[5 5 5 1 2 3 5 2 3 5]\n",
      "Most frequent value in the above array:\n",
      "5\n"
     ]
    }
   ],
   "source": [
    "e = np.array([5,5,5,1,2,3,5,2,3,5])\n",
    "print(e)\n",
    "print(\"Most frequent value in the above array:\")\n",
    "print(np.bincount(e).argmax())"
   ]
  },
  {
   "cell_type": "markdown",
   "metadata": {},
   "source": [
    "# 14.How to get the n largest values of an array"
   ]
  },
  {
   "cell_type": "code",
   "execution_count": 15,
   "metadata": {},
   "outputs": [
    {
     "name": "stdout",
     "output_type": "stream",
     "text": [
      "Enter n value:3\n",
      "[88, 33, 6]\n"
     ]
    }
   ],
   "source": [
    "n = int(input(\"Enter n value:\"))\n",
    "f = np.array([2,3,4,6,88,33,2])\n",
    "f = sorted(f)\n",
    "print(f[:-(n+1):-1])\n"
   ]
  },
  {
   "cell_type": "markdown",
   "metadata": {},
   "source": [
    "# 15.How to create a record array from a regular array?"
   ]
  },
  {
   "cell_type": "code",
   "execution_count": 16,
   "metadata": {},
   "outputs": [
    {
     "name": "stdout",
     "output_type": "stream",
     "text": [
      "[1 2 3 4]\n"
     ]
    }
   ],
   "source": [
    "x = np.array([1,2,3,4])\n",
    "print(x)"
   ]
  },
  {
   "cell_type": "code",
   "execution_count": 17,
   "metadata": {},
   "outputs": [
    {
     "data": {
      "text/plain": [
       "rec.array([1, 2, 3, 4],\n",
       "          dtype=int32)"
      ]
     },
     "execution_count": 17,
     "metadata": {},
     "output_type": "execute_result"
    }
   ],
   "source": [
    "x = x.view(np.recarray)\n",
    "x"
   ]
  }
 ],
 "metadata": {
  "kernelspec": {
   "display_name": "Python 3",
   "language": "python",
   "name": "python3"
  },
  "language_info": {
   "codemirror_mode": {
    "name": "ipython",
    "version": 3
   },
   "file_extension": ".py",
   "mimetype": "text/x-python",
   "name": "python",
   "nbconvert_exporter": "python",
   "pygments_lexer": "ipython3",
   "version": "3.7.6"
  }
 },
 "nbformat": 4,
 "nbformat_minor": 2
}
